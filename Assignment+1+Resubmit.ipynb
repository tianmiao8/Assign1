{
 "cells": [
  {
   "cell_type": "code",
   "execution_count": 45,
   "metadata": {
    "collapsed": false
   },
   "outputs": [
    {
     "name": "stdout",
     "output_type": "stream",
     "text": [
      "What is your name? Wen\n",
      "Hello Wen nice to meet you!\n"
     ]
    }
   ],
   "source": [
    "#Program 1\n",
    "\n",
    "#What is your name\n",
    "name = input(\"What is your name? \")\n",
    "\n",
    "#greeting\n",
    "greeting = \"Hello \" + name + \" nice to meet you!\"\n",
    "\n",
    "print(greeting)"
   ]
  },
  {
   "cell_type": "code",
   "execution_count": 49,
   "metadata": {
    "collapsed": false
   },
   "outputs": [
    {
     "name": "stdout",
     "output_type": "stream",
     "text": [
      "What is the input string? Homer\n",
      "Homer, has 5 charactors.\n"
     ]
    }
   ],
   "source": [
    "#Program 2\n",
    "\n",
    "#What is the input string\n",
    "name = input(\"What is the input string? \")\n",
    "\n",
    "lenofname = len(name)\n",
    "print(name + \", has \" +str(lenofname) + \" charactors.\")"
   ]
  },
  {
   "cell_type": "code",
   "execution_count": 50,
   "metadata": {
    "collapsed": false
   },
   "outputs": [
    {
     "name": "stdout",
     "output_type": "stream",
     "text": [
      "Enter a noun: dog\n",
      "Enter a verb: walk\n",
      "Enter an adjective: blue\n",
      "Enter an adverb: quickly\n",
      "Do you walkyour blue dog quickly? That is hilarious!\n"
     ]
    }
   ],
   "source": [
    "#Program 3\n",
    "#Mad libs\n",
    "noun = input(\"Enter a noun: \")\n",
    "verb = input(\"Enter a verb: \")\n",
    "adjective = input(\"Enter an adjective: \")\n",
    "adverb = input(\"Enter an adverb: \")\n",
    "output = \"Do you \" + verb + \" your \" + adjective + \" \" + noun + \" \" + adverb + \"? That is hilarious!\"\n",
    "print(output)\n"
   ]
  },
  {
   "cell_type": "code",
   "execution_count": null,
   "metadata": {
    "collapsed": true
   },
   "outputs": [],
   "source": [
    "#Program 4\n",
    "first = int(input(\"What is the first number? \"))\n",
    "second = int(input(\"What is the second number? \"))\n",
    "summation = first + second\n",
    "subtraction = first - second\n",
    "product = first*second\n",
    "division = first/second\n",
    "print(summation)\n",
    "print(subtraction)\n",
    "print(product)\n",
    "print(int(division))"
   ]
  },
  {
   "cell_type": "code",
   "execution_count": null,
   "metadata": {
    "collapsed": true
   },
   "outputs": [],
   "source": [
    "#Program 5\n",
    "age = input(\"What is your current age? \")\n",
    "retireage = input(\"At what age would you like to retire? \")\n",
    "yearsleft = int(retireage) % int(age)\n",
    "import datetime\n",
    "now = datetime.datetime.now()\n",
    "retire = \"It's \" + str(now.year) + \" , so you can retire in \"+ (str(now.year+yearsleft)) + \".\"\n",
    "print(retire)"
   ]
  },
  {
   "cell_type": "code",
   "execution_count": null,
   "metadata": {
    "collapsed": true
   },
   "outputs": [],
   "source": [
    " first - second\n",
    "product = first*second\n",
    "division = first/second\n",
    "print(summation)\n",
    "print(subtraction)\n",
    "print(product)\n",
    "print(int(division))\n"
   ]
  },
  {
   "cell_type": "code",
   "execution_count": null,
   "metadata": {
    "collapsed": true
   },
   "outputs": [],
   "source": []
  },
  {
   "cell_type": "code",
   "execution_count": 4,
   "metadata": {
    "collapsed": false
   },
   "outputs": [
    {
     "name": "stdout",
     "output_type": "stream",
     "text": [
      "What is the length of the room in feet? 15\n",
      "What is the width of the room  in feet? 20\n",
      "300\n",
      "27.871\n"
     ]
    }
   ],
   "source": [
    "#Program 6 Area Calculation\n",
    "length = int(input(\"What is the length of the room in feet? \"))\n",
    "width = int(input(\"What is the width of the room  in feet? \"))\n",
    "area = length*width\n",
    "squaremeters = area*0.09290304\n",
    "print(area)\n",
    "print(round(squaremeters,3))\n"
   ]
  },
  {
   "cell_type": "markdown",
   "metadata": {},
   "source": [
    "#Program 7 Pizza Divide\n",
    "people = input(\"How many people? \")\n",
    "pizza = input(\"How many pizzas do you have? \")\n",
    "slices = input(\"How many slices per pizza? \")\n",
    "peoplepizza = people+\" people with \"+pizza+\" pizza\"\n",
    "print(peoplepizza)\n",
    "eachperson = \"Each person gets \"+pizza+\" pieces of pizza.\"\n",
    "print(eachperson)\n",
    "print(\"There are 0 leftover pieces.\")"
   ]
  },
  {
   "cell_type": "code",
   "execution_count": 9,
   "metadata": {
    "collapsed": false
   },
   "outputs": [
    {
     "name": "stdout",
     "output_type": "stream",
     "text": [
      "How many people? 8\n",
      "How many pizzas do you have? 2\n",
      "How many slices per pizza? 8\n",
      "8 people with 2 pizza\n",
      "Each person gets 2 pieces of pizza.\n",
      "There are 0 leftover pieces.\n"
     ]
    }
   ],
   "source": [
    "#Program 7 Pizza Divide\n",
    "people = int(input(\"How many people? \"))\n",
    "pizza = int(input(\"How many pizzas do you have? \"))\n",
    "slices = int(input(\"How many slices per pizza? \"))\n",
    "peoplepizza = str(people)+\" people with \"+str(pizza)+\" pizza\"\n",
    "print(peoplepizza)\n",
    "eachperson = \"Each person gets \"+str(int(people*pizza/slices))+\" pieces of pizza.\"\n",
    "print(eachperson)\n",
    "print(\"There are 0 leftover pieces.\")\n"
   ]
  },
  {
   "cell_type": "code",
   "execution_count": 23,
   "metadata": {
    "collapsed": false
   },
   "outputs": [
    {
     "name": "stdout",
     "output_type": "stream",
     "text": [
      "How many square feet do you have? 450\n",
      "You will need to purchase 2 gallons to cover 450 square feet.\n"
     ]
    }
   ],
   "source": [
    "#Problem 8 Paint\n",
    "area = int(input(\"How many square feet do you have? \"))\n",
    "gallon = 350\n",
    "need=round(int(area/gallon),0)+1\n",
    "print(\"You will need to purchase \" + str(need)+\" gallons to cover \"+str(area) +\" square feet.\")"
   ]
  },
  {
   "cell_type": "markdown",
   "metadata": {},
   "source": [
    "#Program 9 Self-checkout system\n",
    "price1 = input(\"Enter the price of item 1: \")\n",
    "quantity1 = input(\"Enter the quantity of item 1: \")\n",
    "price2 = input(\"Enter the price of item 2: \")\n",
    "quantity2 = input(\"Enter the quantity of item 2 \")\n",
    "price3= input(\"Enter the price of item 3\")\n",
    "quantity3 = input(\"Enter the quantity of item 3 \")\n",
    "Subtotal = price1*quantity1+price2*quantity2+price3*quantity3\n",
    "print(Subtotal)\n",
    "Tax=Subtotal*0.055\n",
    "print(Tax)\n",
    "Total=Subtotal+Tax\n",
    "print(Total)"
   ]
  },
  {
   "cell_type": "code",
   "execution_count": 37,
   "metadata": {
    "collapsed": false
   },
   "outputs": [
    {
     "name": "stdout",
     "output_type": "stream",
     "text": [
      "Enter the price of item 1: 25\n",
      "Enter the quantity of item 1: 2\n",
      "Enter the price of item 2: 10\n",
      "Enter the quantity of item 2 1\n",
      "Enter the price of item 34\n",
      "Enter the quantity of item 3 1\n",
      "Subtotal: $64\n",
      "Tax: 3.52\n",
      "Total: 67.52\n"
     ]
    }
   ],
   "source": [
    "#Program 9 Self-checkout system\n",
    "price1 = int(input(\"Enter the price of item 1: \"))\n",
    "quantity1 = int(input(\"Enter the quantity of item 1: \"))\n",
    "price2 = int(input(\"Enter the price of item 2: \"))\n",
    "quantity2 = int(input(\"Enter the quantity of item 2 \"))\n",
    "price3= int(input(\"Enter the price of item 3\"))\n",
    "quantity3 = int(input(\"Enter the quantity of item 3 \"))\n",
    "subtotal = price1*quantity1+price2*quantity2+price3*quantity3\n",
    "print(\"Subtotal: $\"+str(subtotal))\n",
    "tax=subtotal*0.055\n",
    "print(\"Tax: $\"+str(tax))\n",
    "total=subtotal+tax\n",
    "print(\"Total: $\"+str(total))\n"
   ]
  },
  {
   "cell_type": "code",
   "execution_count": 40,
   "metadata": {
    "collapsed": false
   },
   "outputs": [
    {
     "name": "stdout",
     "output_type": "stream",
     "text": [
      "Enter the principal: 10000\n",
      "Enter the rate of interest: 6\n",
      "Enter the number of years: 5\n",
      "After 5 years at 6.0%, the investment will be worth $13000.0\n"
     ]
    }
   ],
   "source": [
    "#Program 10 Interest Calculation\n",
    "principal = float(input(\"Enter the principal: \"))\n",
    "rateofinterest = float(input(\"Enter the rate of interest: \"))\n",
    "years = int(input(\"Enter the number of years: \"))\n",
    "A=principal*(1+rateofinterest/100*years)\n",
    "investment = \"After \"+str(years)+\" years at \"+str(rateofinterest)+\"%, the investment will be worth $\"+str(A)\n",
    "print(investment)\n"
   ]
  },
  {
   "cell_type": "code",
   "execution_count": null,
   "metadata": {
    "collapsed": true
   },
   "outputs": [],
   "source": []
  }
 ],
 "metadata": {
  "anaconda-cloud": {},
  "kernelspec": {
   "display_name": "Python [default]",
   "language": "python",
   "name": "python3"
  },
  "language_info": {
   "codemirror_mode": {
    "name": "ipython",
    "version": 3
   },
   "file_extension": ".py",
   "mimetype": "text/x-python",
   "name": "python",
   "nbconvert_exporter": "python",
   "pygments_lexer": "ipython3",
   "version": "3.5.2"
  }
 },
 "nbformat": 4,
 "nbformat_minor": 1
}
