{
 "cells": [
  {
   "cell_type": "markdown",
   "metadata": {},
   "source": [
    "# Program 1\n",
    "Create a program that prompts for your name and prints a greeting using your name. \n",
    "\n",
    "## Example Output\n",
    "<pre>\n",
    "What is your name? Brian\n",
    "Hello, Brian, nice to meet you!\n",
    "</pre>\n",
    "\n",
    "## Constraint\n",
    "Keep the input, string concatenation, and output separate. "
   ]
  },
  {
   "cell_type": "code",
   "execution_count": 2,
   "metadata": {
    "collapsed": false,
    "scrolled": true
   },
   "outputs": [
    {
     "name": "stdout",
     "output_type": "stream",
     "text": [
      "What is your name? John Doe\n",
      "Hello, John Doe, nice to meet you!\n"
     ]
    }
   ],
   "source": [
    "def problem1():\n",
    "    pass\n",
    "    \n",
    "problem1()"
   ]
  },
  {
   "cell_type": "markdown",
   "metadata": {},
   "source": [
    "# Program 2\n",
    "Create a program that prompts for an input string and displays output that shows the input string and the number of characters the string contains.\n",
    "\n",
    "## Example Output\n",
    "<pre>\n",
    "What is the input string? Homer\n",
    "Homer has 5 characters.\n",
    "</pre>\n",
    "## Constraints\n",
    "\n",
    "- Be sure the output contains the original string.\n",
    "- Use a single output statement to construct the output.\n",
    "- Use a built-in function to determine the length of the string."
   ]
  },
  {
   "cell_type": "code",
   "execution_count": null,
   "metadata": {
    "collapsed": true
   },
   "outputs": [],
   "source": [
    ""
   ]
  },
  {
   "cell_type": "markdown",
   "metadata": {},
   "source": [
    "# Program 3\n",
    "\n",
    "Mad libs are a simple game where you create a story template with blanks for words. You, or another player, then construct a list of words and place them into the story, creating an often silly or funny story as a result.\n",
    "\n",
    "Create a simple mad-lib program that prompts for a noun, a verb, an adverb, and an adjective and injects those into a story that you create.\n",
    "\n",
    "## Example Output\n",
    "<pre>\n",
    "Enter a noun: dog\n",
    "Enter a verb: walk\n",
    "Enter an adjective: blue\n",
    "Enter an adverb: quickly\n",
    "Do you walk your blue dog quickly? That's hilarious!\n",
    "</pre>\n",
    "\n",
    "## Constraints\n",
    "Use a single output statement for this program."
   ]
  },
  {
   "cell_type": "code",
   "execution_count": null,
   "metadata": {
    "collapsed": true
   },
   "outputs": [],
   "source": [
    ""
   ]
  },
  {
   "cell_type": "markdown",
   "metadata": {},
   "source": [
    "# Problem 4\n",
    "\n",
    "Write a program that prompts for two numbers. Print the sum, difference, product, and quotient of those numbers as shown in the example output:\n",
    "\n",
    "## Example Output\n",
    "<pre>\n",
    "What is the first number? 10\n",
    "What is the second number? 5\n",
    "10 + 5 = 15\n",
    "10 - 5 = 5\n",
    "10 * 5 = 50\n",
    "10 / 5 = 2\n",
    "</pre>\n",
    "\n",
    "## Constraints\n",
    "- Values coming from users will be strings. Ensure that you convert these values to numbers before doing the math.\n",
    "- Keep the inputs and outputs separate from the numerical conversions and other processing.\n",
    "- Generate a single output statement with line breaks in the appropriate spots."
   ]
  },
  {
   "cell_type": "code",
   "execution_count": null,
   "metadata": {
    "collapsed": true
   },
   "outputs": [],
   "source": [
    ""
   ]
  },
  {
   "cell_type": "markdown",
   "metadata": {},
   "source": [
    "# Problem 5\n",
    "\n",
    "Create a program that determines how many years you have left until retirement and the year you can retire. It should prompt for your current age and the age you want to retire and display the output as shown in the example that follows.\n",
    "\n",
    "## Example Output\n",
    "<pre>\n",
    "What is your current age? 25\n",
    "At what age would you like to retire? 65\n",
    "You have 40 years left until you can retire.\n",
    "It's 2015, so you can retire in 2055.\n",
    "</pre>\n",
    "\n",
    "## Constraints\n",
    "- Again, be sure to convert the input to numerical data before doing any math.\n",
    "- Don’t hard-code the current year into your program. Get it from the system time via your programming language. To do this, see the following stackoverflow thread: http://stackoverflow.com/questions/30071886/how-to-get-current-time-in-python-and-break-up-into-year-month-day-hour-minu (Links to an external site.) "
   ]
  },
  {
   "cell_type": "code",
   "execution_count": null,
   "metadata": {
    "collapsed": true
   },
   "outputs": [],
   "source": [
    ""
   ]
  },
  {
   "cell_type": "markdown",
   "metadata": {},
   "source": [
    "# Problem 6\n",
    "\n",
    "Create a program that calculates the area of a room. Prompt the user for the length and width of the room in feet. Then display the area in both square feet and square meters.\n",
    "\n",
    "## Example Output\n",
    "<pre>\n",
    "What is the length of the room in feet? 15\n",
    "What is the width of the room in feet? 20\n",
    "You entered dimensions of 15 feet by 20 feet.\n",
    "The area is \n",
    "300 square feet\n",
    "27.871 square meters\n",
    "</pre>\n",
    "\n",
    "The formula for this conversion is $m^2 = f^2 \\times 0.09290304$\n",
    "\n",
    "## Constraints\n",
    "- Keep the calculations separate from the output.\n",
    "- Use a constant to hold the conversion factor."
   ]
  },
  {
   "cell_type": "code",
   "execution_count": null,
   "metadata": {
    "collapsed": true
   },
   "outputs": [],
   "source": [
    ""
   ]
  },
  {
   "cell_type": "markdown",
   "metadata": {},
   "source": [
    "# Problem 7\n",
    "\n",
    "Write a program to evenly divide pizzas. Prompt for the number of people, the number of pizzas, and the number of slices per pizza. Ensure that the number of pieces comes out even. Display the number of pieces of pizza each person should get. If there are leftovers, show the number of leftover pieces.\n",
    "\n",
    "## Example Output\n",
    "<pre>\n",
    "How many people? 8\n",
    "How many pizzas do you have? 2\n",
    "How many slices per pizza? 8\n",
    "8 people with 2 pizzas\n",
    "Each person gets 2 pieces of pizza.\n",
    "There are 0 leftover pieces.\n",
    "</pre>"
   ]
  },
  {
   "cell_type": "code",
   "execution_count": null,
   "metadata": {
    "collapsed": true
   },
   "outputs": [],
   "source": [
    ""
   ]
  },
  {
   "cell_type": "markdown",
   "metadata": {},
   "source": [
    "# Problem 8\n",
    "\n",
    "Calculate gallons of paint needed to paint the ceiling of a room. Prompt for the length and width, and assume one gallon covers 350 square feet. Display the number of gallons needed to paint the ceiling as a whole number.\n",
    "\n",
    "## Example Output\n",
    "<pre>\n",
    "You will need to purchase 2 gallons of paint to cover 360 square feet.\n",
    "</pre>\n",
    "\n",
    "Remember, you can’t buy a partial gallon of paint. You must round up to the next whole gallon.\n",
    "\n",
    "## Constraints\n",
    "- Use a constant to hold the conversion rate.\n",
    "- Ensure that you round up to the next whole number."
   ]
  },
  {
   "cell_type": "code",
   "execution_count": null,
   "metadata": {
    "collapsed": true
   },
   "outputs": [],
   "source": [
    ""
   ]
  },
  {
   "cell_type": "markdown",
   "metadata": {},
   "source": [
    "# Problem 9\n",
    "Create a simple self-checkout system. Prompt for the prices and quantities of three items. Calculate the subtotal of the items. Then calculate the tax using a tax rate of 5.5%. Print out the line items with the quantity and total, and then print out the subtotal, tax amount, and total.\n",
    "\n",
    "## Example Output\n",
    "<pre>\n",
    "Enter the price of item 1: 25\n",
    "Enter the quantity of item 1: 2\n",
    "Enter the price of item 2: 10\n",
    "Enter the quantity of item 2: 1\n",
    "Enter the price of item 3: 4\n",
    "Enter the quantity of item 3: 1\n",
    "Subtotal: $64.00\n",
    "Tax: $3.52\n",
    "Total: $67.52\n",
    "</pre>\n",
    "\n",
    "## Constraints\n",
    "- Keep the input, processing, and output parts of your program separate. Collect the input, then do the math operations and string building, and then print out the output.\n",
    "- Be sure you explicitly convert input to numerical data before doing any calculations."
   ]
  },
  {
   "cell_type": "code",
   "execution_count": null,
   "metadata": {
    "collapsed": true
   },
   "outputs": [],
   "source": [
    ""
   ]
  },
  {
   "cell_type": "markdown",
   "metadata": {},
   "source": [
    "# Program 10\n",
    "\n",
    "Create a program that computes simple interest. Prompt for the principal amount, the rate as a percentage, and the time, and display the amount accrued (principal + interest).\n",
    "\n",
    "The formula for simple interest is $A = P(1 + rt)$, where $P$ is the principal amount, $r$ is the annual rate of interest, $t$ is the number of years the amount is invested, and $A$ is the amount at the end of the investment.\n",
    "\n",
    "## Example Output\n",
    "<pre>\n",
    "Enter the principal: 1500\n",
    "Enter the rate of interest: 4.3\n",
    "Enter the number of years: 4\n",
    "\n",
    "After 4 years at 4.3%, the investment will be worth $1758.\n",
    "</pre>\n",
    "\n",
    "## Constraints\n",
    "\n",
    "- Prompt for the rate as a percentage (like 15, not .15). Divide the input by 100 in your program.\n",
    "- Ensure that fractions of a cent are rounded up to the next penny.\n",
    "- Ensure that the output is formatted as money."
   ]
  },
  {
   "cell_type": "code",
   "execution_count": null,
   "metadata": {
    "collapsed": true
   },
   "outputs": [],
   "source": [
    ""
   ]
  }
 ],
 "metadata": {
  "anaconda-cloud": {},
  "kernelspec": {
   "display_name": "Python [default]",
   "language": "python",
   "name": "python3"
  },
  "language_info": {
   "codemirror_mode": {
    "name": "ipython",
    "version": 3.0
   },
   "file_extension": ".py",
   "mimetype": "text/x-python",
   "name": "python",
   "nbconvert_exporter": "python",
   "pygments_lexer": "ipython3",
   "version": "3.5.2"
  }
 },
 "nbformat": 4,
 "nbformat_minor": 0
}